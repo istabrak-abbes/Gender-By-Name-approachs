{
  "nbformat": 4,
  "nbformat_minor": 0,
  "metadata": {
    "colab": {
      "name": "name_gender.ipynb",
      "provenance": [],
      "collapsed_sections": [],
      "authorship_tag": "ABX9TyMRP8rCuL8LeAmSpE+cU4/h",
      "include_colab_link": true
    },
    "kernelspec": {
      "name": "python3",
      "display_name": "Python 3"
    },
    "language_info": {
      "name": "python"
    }
  },
  "cells": [
    {
      "cell_type": "markdown",
      "metadata": {
        "id": "view-in-github",
        "colab_type": "text"
      },
      "source": [
        "<a href=\"https://colab.research.google.com/github/istabrak-abbes/Gender-By-Name-approachs/blob/main/name_gender.ipynb\" target=\"_parent\"><img src=\"https://colab.research.google.com/assets/colab-badge.svg\" alt=\"Open In Colab\"/></a>"
      ]
    },
    {
      "cell_type": "code",
      "metadata": {
        "id": "uC-6WUw2c16O"
      },
      "source": [
        "import pandas as pd\n",
        "import numpy as np\n",
        "df = pd.read_csv(\"name_gender_dataset.csv\")"
      ],
      "execution_count": 31,
      "outputs": []
    },
    {
      "cell_type": "code",
      "metadata": {
        "id": "z6QksybhdeMR"
      },
      "source": [
        "\n",
        "df=df.drop(columns=['Probability','Count'])\n"
      ],
      "execution_count": 32,
      "outputs": []
    },
    {
      "cell_type": "code",
      "metadata": {
        "colab": {
          "base_uri": "https://localhost:8080/",
          "height": 204
        },
        "id": "F0ZyXS_ydgnb",
        "outputId": "93e2f485-941d-438d-f834-d2246e703770"
      },
      "source": [
        "df.tail()"
      ],
      "execution_count": 33,
      "outputs": [
        {
          "output_type": "execute_result",
          "data": {
            "text/html": [
              "<div>\n",
              "<style scoped>\n",
              "    .dataframe tbody tr th:only-of-type {\n",
              "        vertical-align: middle;\n",
              "    }\n",
              "\n",
              "    .dataframe tbody tr th {\n",
              "        vertical-align: top;\n",
              "    }\n",
              "\n",
              "    .dataframe thead th {\n",
              "        text-align: right;\n",
              "    }\n",
              "</style>\n",
              "<table border=\"1\" class=\"dataframe\">\n",
              "  <thead>\n",
              "    <tr style=\"text-align: right;\">\n",
              "      <th></th>\n",
              "      <th>Name</th>\n",
              "      <th>Gender</th>\n",
              "    </tr>\n",
              "  </thead>\n",
              "  <tbody>\n",
              "    <tr>\n",
              "      <th>147264</th>\n",
              "      <td>Zylenn</td>\n",
              "      <td>M</td>\n",
              "    </tr>\n",
              "    <tr>\n",
              "      <th>147265</th>\n",
              "      <td>Zymeon</td>\n",
              "      <td>M</td>\n",
              "    </tr>\n",
              "    <tr>\n",
              "      <th>147266</th>\n",
              "      <td>Zyndel</td>\n",
              "      <td>M</td>\n",
              "    </tr>\n",
              "    <tr>\n",
              "      <th>147267</th>\n",
              "      <td>Zyshan</td>\n",
              "      <td>M</td>\n",
              "    </tr>\n",
              "    <tr>\n",
              "      <th>147268</th>\n",
              "      <td>Zyton</td>\n",
              "      <td>M</td>\n",
              "    </tr>\n",
              "  </tbody>\n",
              "</table>\n",
              "</div>"
            ],
            "text/plain": [
              "          Name Gender\n",
              "147264  Zylenn      M\n",
              "147265  Zymeon      M\n",
              "147266  Zyndel      M\n",
              "147267  Zyshan      M\n",
              "147268   Zyton      M"
            ]
          },
          "metadata": {
            "tags": []
          },
          "execution_count": 33
        }
      ]
    },
    {
      "cell_type": "code",
      "metadata": {
        "colab": {
          "base_uri": "https://localhost:8080/"
        },
        "id": "SZQp2zs6dlTq",
        "outputId": "114eeb4a-fd16-4eac-d46e-3fc021988a2b"
      },
      "source": [
        "df.Gender.value_counts()"
      ],
      "execution_count": 34,
      "outputs": [
        {
          "output_type": "execute_result",
          "data": {
            "text/plain": [
              "F    89749\n",
              "M    57520\n",
              "Name: Gender, dtype: int64"
            ]
          },
          "metadata": {
            "tags": []
          },
          "execution_count": 34
        }
      ]
    },
    {
      "cell_type": "code",
      "metadata": {
        "id": "Lj7rDPN1rUTs",
        "colab": {
          "base_uri": "https://localhost:8080/"
        },
        "outputId": "7986f79c-84b2-4635-86dc-abb84c9f0c00"
      },
      "source": [
        "df.isnull().isnull().sum()"
      ],
      "execution_count": 35,
      "outputs": [
        {
          "output_type": "execute_result",
          "data": {
            "text/plain": [
              "Name      0\n",
              "Gender    0\n",
              "dtype: int64"
            ]
          },
          "metadata": {
            "tags": []
          },
          "execution_count": 35
        }
      ]
    },
    {
      "cell_type": "code",
      "metadata": {
        "id": "PWCfdgAQd3ix"
      },
      "source": [
        "from sklearn.feature_extraction.text import CountVectorizer\n",
        "from sklearn.feature_extraction import DictVectorizer"
      ],
      "execution_count": 36,
      "outputs": []
    },
    {
      "cell_type": "code",
      "metadata": {
        "id": "TENtKXNqf3Xa"
      },
      "source": [
        "df.Gender.replace({'F':0, 'M':1},inplace=True)"
      ],
      "execution_count": 37,
      "outputs": []
    },
    {
      "cell_type": "code",
      "metadata": {
        "colab": {
          "base_uri": "https://localhost:8080/"
        },
        "id": "uT6v_xvGSM__",
        "outputId": "0103d82c-2edd-4ebc-e252-51b2f316464c"
      },
      "source": [
        "df.Gender.unique()"
      ],
      "execution_count": 38,
      "outputs": [
        {
          "output_type": "execute_result",
          "data": {
            "text/plain": [
              "array([1, 0])"
            ]
          },
          "metadata": {
            "tags": []
          },
          "execution_count": 38
        }
      ]
    },
    {
      "cell_type": "code",
      "metadata": {
        "id": "CXplpKc2SYtW"
      },
      "source": [
        "Xsimples =df['Name']"
      ],
      "execution_count": 39,
      "outputs": []
    },
    {
      "cell_type": "code",
      "metadata": {
        "id": "QN6cTHQoStAP"
      },
      "source": [
        "vect = CountVectorizer()\n",
        "X = vect.fit_transform(Xsimples)"
      ],
      "execution_count": 40,
      "outputs": []
    },
    {
      "cell_type": "code",
      "metadata": {
        "id": "mwock6ahSxHN"
      },
      "source": [
        "from sklearn.model_selection import train_test_split \n",
        "Ysimples = df['Gender']\n",
        "X_train, X_test, y_train, y_test = train_test_split(X, Ysimples, test_size=0.1, random_state=42)"
      ],
      "execution_count": 41,
      "outputs": []
    },
    {
      "cell_type": "code",
      "metadata": {
        "colab": {
          "base_uri": "https://localhost:8080/"
        },
        "id": "etl11UPlS31B",
        "outputId": "14b21ccb-b7f9-4f93-b1de-37b0958ee1df"
      },
      "source": [
        "# Naive Bayes Classifier\n",
        "from sklearn.naive_bayes import MultinomialNB\n",
        "clf = MultinomialNB()\n",
        "clf.fit(X_train,y_train)\n",
        "clf.score(X_test,y_test)"
      ],
      "execution_count": 42,
      "outputs": [
        {
          "output_type": "execute_result",
          "data": {
            "text/plain": [
              "0.5516398451823182"
            ]
          },
          "metadata": {
            "tags": []
          },
          "execution_count": 42
        }
      ]
    },
    {
      "cell_type": "code",
      "metadata": {
        "colab": {
          "base_uri": "https://localhost:8080/"
        },
        "id": "HJHnmq8hThCN",
        "outputId": "25ff4096-dc4c-4e2e-bfb7-6fa563b1a401"
      },
      "source": [
        "# Accuracy of our Model\n",
        "print(\"Accuracy of Model\",clf.score(X_test,y_test)*100,\"%\")"
      ],
      "execution_count": 43,
      "outputs": [
        {
          "output_type": "stream",
          "text": [
            "Accuracy of Model 55.16398451823182 %\n"
          ],
          "name": "stdout"
        }
      ]
    },
    {
      "cell_type": "code",
      "metadata": {
        "colab": {
          "base_uri": "https://localhost:8080/"
        },
        "id": "3s2CeNHMUAJd",
        "outputId": "dd88d9e0-4de1-4534-d5f7-e57c0a7c84b9"
      },
      "source": [
        "# Accuracy of our Model\n",
        "print(\"Accuracy of Model\",clf.score(X_train,y_train)*100,\"%\")"
      ],
      "execution_count": 44,
      "outputs": [
        {
          "output_type": "stream",
          "text": [
            "Accuracy of Model 91.50910654735857 %\n"
          ],
          "name": "stdout"
        }
      ]
    },
    {
      "cell_type": "markdown",
      "metadata": {
        "id": "a_tUTKeKUcJy"
      },
      "source": [
        "Sample Prediction"
      ]
    },
    {
      "cell_type": "code",
      "metadata": {
        "id": "wxT-zxHbUGqD"
      },
      "source": [
        "# Sample1 Prediction\n",
        "sample_name = [\"Mary\"]\n",
        "name_to_vect = vect.transform(sample_name).toarray()"
      ],
      "execution_count": 45,
      "outputs": []
    },
    {
      "cell_type": "code",
      "metadata": {
        "colab": {
          "base_uri": "https://localhost:8080/"
        },
        "id": "D2oixu3FUg-g",
        "outputId": "e0937d77-4cd0-424f-8bb6-2605d4179423"
      },
      "source": [
        "name_to_vect"
      ],
      "execution_count": 46,
      "outputs": [
        {
          "output_type": "execute_result",
          "data": {
            "text/plain": [
              "array([[0, 0, 0, ..., 0, 0, 0]])"
            ]
          },
          "metadata": {
            "tags": []
          },
          "execution_count": 46
        }
      ]
    },
    {
      "cell_type": "code",
      "metadata": {
        "colab": {
          "base_uri": "https://localhost:8080/"
        },
        "id": "lMIDG99HUlsr",
        "outputId": "2426c71a-bc07-4cf5-d55e-2ade25dc5ff2"
      },
      "source": [
        "clf.predict(name_to_vect)"
      ],
      "execution_count": 47,
      "outputs": [
        {
          "output_type": "execute_result",
          "data": {
            "text/plain": [
              "array([0])"
            ]
          },
          "metadata": {
            "tags": []
          },
          "execution_count": 47
        }
      ]
    },
    {
      "cell_type": "code",
      "metadata": {
        "colab": {
          "base_uri": "https://localhost:8080/"
        },
        "id": "Dhyjf7cDUxdT",
        "outputId": "3e77160c-3d0d-4f32-a546-04dfbaa74b1f"
      },
      "source": [
        "# Sample2 Prediction\n",
        "sample_name1 = [\"Mark\"]\n",
        "vect1 = vect.transform(sample_name1).toarray()\n",
        "clf.predict(vect1)"
      ],
      "execution_count": 49,
      "outputs": [
        {
          "output_type": "execute_result",
          "data": {
            "text/plain": [
              "array([1])"
            ]
          },
          "metadata": {
            "tags": []
          },
          "execution_count": 49
        }
      ]
    },
    {
      "cell_type": "code",
      "metadata": {
        "id": "qADOg-T-U3-3"
      },
      "source": [
        "# A function to do it\n",
        "def genderpredictor(a):\n",
        "    test_name = [a]\n",
        "    vector = vect.transform(test_name).toarray()\n",
        "    if clf.predict(vector) == 0:\n",
        "        print(\"Female\")\n",
        "    else:\n",
        "        print(\"Male\")"
      ],
      "execution_count": 52,
      "outputs": []
    },
    {
      "cell_type": "code",
      "metadata": {
        "colab": {
          "base_uri": "https://localhost:8080/"
        },
        "id": "b52pcIR0VRkw",
        "outputId": "c82fef34-626c-48e3-9f34-0273998c9ff2"
      },
      "source": [
        "genderpredictor('Ista')"
      ],
      "execution_count": 53,
      "outputs": [
        {
          "output_type": "stream",
          "text": [
            "Female\n"
          ],
          "name": "stdout"
        }
      ]
    }
  ]
}